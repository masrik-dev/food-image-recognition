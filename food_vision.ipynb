{
  "nbformat": 4,
  "nbformat_minor": 0,
  "metadata": {
    "colab": {
      "provenance": [],
      "mount_file_id": "1UDYhwAx2_voVrVtIKgWQF-pgCFR5p9Fj",
      "authorship_tag": "ABX9TyN55euzmnfKRzWLE6XXHoic",
      "include_colab_link": true
    },
    "kernelspec": {
      "name": "python3",
      "display_name": "Python 3"
    },
    "language_info": {
      "name": "python"
    }
  },
  "cells": [
    {
      "cell_type": "markdown",
      "metadata": {
        "id": "view-in-github",
        "colab_type": "text"
      },
      "source": [
        "<a href=\"https://colab.research.google.com/github/masrik-dev/food-image-recognition/blob/main/food_vision.ipynb\" target=\"_parent\"><img src=\"https://colab.research.google.com/assets/colab-badge.svg\" alt=\"Open In Colab\"/></a>"
      ]
    },
    {
      "cell_type": "code",
      "execution_count": 1,
      "metadata": {
        "id": "nYAu7tQTiAKa"
      },
      "outputs": [],
      "source": [
        "# import os, shutil\n",
        "\n",
        "# # Create the hidden .kaggle folder if it dosen't exist\n",
        "# os.makedirs(\"/root/.kaggle\", exist_ok=True)\n",
        "\n",
        "# # Move kaggle.json to that folder\n",
        "# shutil.move(\"kaggle.json\", \"/root/.kaggle/kaggle.json\")\n",
        "\n",
        "# # Set correct permissions\n",
        "# os.chmod(\"/root/.kaggle/kaggle.json\", 600)"
      ]
    },
    {
      "cell_type": "code",
      "source": [
        "# # Install Kaggle CLI (if not already installed)\n",
        "# !pip install -q kaggle\n",
        "\n",
        "# # Download the dataset (it will create food-101.zip)\n",
        "# !kaggle datasets download -d dansbecker/food-101\n",
        "\n",
        "# # Create a data directory and unzip\n",
        "# !mkdir -p data\n",
        "# !unzip -q food-101.zip -d data"
      ],
      "metadata": {
        "id": "27mU0TjZjcGU"
      },
      "execution_count": 2,
      "outputs": []
    },
    {
      "cell_type": "code",
      "source": [
        "# import kagglehub\n",
        "\n",
        "# # Download latest version\n",
        "# path = kagglehub.dataset_download(\"dansbecker/food-101\")\n",
        "\n",
        "# print(\"Path to dataset files:\", path)"
      ],
      "metadata": {
        "id": "XzUiTKuMlWDW"
      },
      "execution_count": 3,
      "outputs": []
    },
    {
      "cell_type": "code",
      "source": [
        "# pip3 install kaggle"
      ],
      "metadata": {
        "id": "lCJBVLuTX7-G"
      },
      "execution_count": 4,
      "outputs": []
    },
    {
      "cell_type": "code",
      "source": [
        "# ~/.kaggle/kaggle.json\n",
        "# /path/kaggle.json"
      ],
      "metadata": {
        "id": "0hZOY_W-YSQq"
      },
      "execution_count": 5,
      "outputs": []
    },
    {
      "cell_type": "code",
      "source": [
        "# import kaggle\n",
        "# kaggle.api.authenticate()\n",
        "# kaggle.api.dataset_download_files('dansbecker/food-101', path='.', unzip=True)"
      ],
      "metadata": {
        "id": "PTa_jO1IYuPu"
      },
      "execution_count": 6,
      "outputs": []
    },
    {
      "cell_type": "code",
      "source": [
        "! pip install kaggle"
      ],
      "metadata": {
        "colab": {
          "base_uri": "https://localhost:8080/"
        },
        "id": "qpL-AKKvb9a6",
        "outputId": "2ce98a4c-e933-4e9f-ad48-02ffe3be2612"
      },
      "execution_count": 7,
      "outputs": [
        {
          "output_type": "stream",
          "name": "stdout",
          "text": [
            "Requirement already satisfied: kaggle in /usr/local/lib/python3.12/dist-packages (1.7.4.5)\n",
            "Requirement already satisfied: bleach in /usr/local/lib/python3.12/dist-packages (from kaggle) (6.2.0)\n",
            "Requirement already satisfied: certifi>=14.05.14 in /usr/local/lib/python3.12/dist-packages (from kaggle) (2025.8.3)\n",
            "Requirement already satisfied: charset-normalizer in /usr/local/lib/python3.12/dist-packages (from kaggle) (3.4.3)\n",
            "Requirement already satisfied: idna in /usr/local/lib/python3.12/dist-packages (from kaggle) (3.10)\n",
            "Requirement already satisfied: protobuf in /usr/local/lib/python3.12/dist-packages (from kaggle) (5.29.5)\n",
            "Requirement already satisfied: python-dateutil>=2.5.3 in /usr/local/lib/python3.12/dist-packages (from kaggle) (2.9.0.post0)\n",
            "Requirement already satisfied: python-slugify in /usr/local/lib/python3.12/dist-packages (from kaggle) (8.0.4)\n",
            "Requirement already satisfied: requests in /usr/local/lib/python3.12/dist-packages (from kaggle) (2.32.4)\n",
            "Requirement already satisfied: setuptools>=21.0.0 in /usr/local/lib/python3.12/dist-packages (from kaggle) (75.2.0)\n",
            "Requirement already satisfied: six>=1.10 in /usr/local/lib/python3.12/dist-packages (from kaggle) (1.17.0)\n",
            "Requirement already satisfied: text-unidecode in /usr/local/lib/python3.12/dist-packages (from kaggle) (1.3)\n",
            "Requirement already satisfied: tqdm in /usr/local/lib/python3.12/dist-packages (from kaggle) (4.67.1)\n",
            "Requirement already satisfied: urllib3>=1.15.1 in /usr/local/lib/python3.12/dist-packages (from kaggle) (2.5.0)\n",
            "Requirement already satisfied: webencodings in /usr/local/lib/python3.12/dist-packages (from kaggle) (0.5.1)\n"
          ]
        }
      ]
    },
    {
      "cell_type": "code",
      "source": [
        "from google.colab import drive\n",
        "drive.mount('/content/drive')"
      ],
      "metadata": {
        "colab": {
          "base_uri": "https://localhost:8080/"
        },
        "id": "BVOigQRQckyO",
        "outputId": "e90adedc-1ea7-4b8b-b97a-0b8401b85c4d"
      },
      "execution_count": 8,
      "outputs": [
        {
          "output_type": "stream",
          "name": "stdout",
          "text": [
            "Drive already mounted at /content/drive; to attempt to forcibly remount, call drive.mount(\"/content/drive\", force_remount=True).\n"
          ]
        }
      ]
    },
    {
      "cell_type": "code",
      "source": [
        "! mkdir ~/.kaggle"
      ],
      "metadata": {
        "colab": {
          "base_uri": "https://localhost:8080/"
        },
        "id": "zmw5LMtRdHPa",
        "outputId": "6dff59a3-107c-44b4-c280-483e294dc5a4"
      },
      "execution_count": 14,
      "outputs": [
        {
          "output_type": "stream",
          "name": "stdout",
          "text": [
            "mkdir: cannot create directory ‘/root/.kaggle’: File exists\n"
          ]
        }
      ]
    },
    {
      "cell_type": "code",
      "source": [
        "! cp /content/drive/MyDrive/Kaggle_API/kaggle.json ~/.kaggle/kaggle.json"
      ],
      "metadata": {
        "id": "CoYVXFD0eJXD"
      },
      "execution_count": 10,
      "outputs": []
    },
    {
      "cell_type": "markdown",
      "source": [
        "In another nodebook we can just use the bellow command to use kaggle.json api file.\n",
        "\n",
        "`! chmod 600 ~/.kaggle/kaggle.json`"
      ],
      "metadata": {
        "id": "ZXUUVy_peoVr"
      }
    },
    {
      "cell_type": "code",
      "source": [
        "! kaggle datasets download dansbecker/food-101"
      ],
      "metadata": {
        "colab": {
          "base_uri": "https://localhost:8080/"
        },
        "id": "rfKdpjr0fEFI",
        "outputId": "964a77a0-c655-47ae-b92c-cabf20491753"
      },
      "execution_count": 11,
      "outputs": [
        {
          "output_type": "stream",
          "name": "stdout",
          "text": [
            "Dataset URL: https://www.kaggle.com/datasets/dansbecker/food-101\n",
            "License(s): other\n",
            "^C\n"
          ]
        }
      ]
    },
    {
      "cell_type": "code",
      "source": [
        "! unzip food-101.zip"
      ],
      "metadata": {
        "colab": {
          "base_uri": "https://localhost:8080/"
        },
        "id": "89JN5pzMf-NO",
        "outputId": "5a847412-0a03-4629-8c5c-d11b484d301a"
      },
      "execution_count": 12,
      "outputs": [
        {
          "output_type": "stream",
          "name": "stdout",
          "text": [
            "unzip:  cannot find or open food-101.zip, food-101.zip.zip or food-101.zip.ZIP.\n"
          ]
        }
      ]
    },
    {
      "cell_type": "code",
      "source": [
        "# Download the Food-101 dataset (will create food-101.zip in your working directory)\n",
        "!kaggle datasets download -d dansbecker/food-101\n",
        "\n",
        "# Unzip the downloaded file\n",
        "!unzip food-101.zip -d food-101\n"
      ],
      "metadata": {
        "colab": {
          "base_uri": "https://localhost:8080/"
        },
        "id": "53-b1gE8hcqH",
        "outputId": "a5c938f3-c789-47ee-e77b-b38c666f148e"
      },
      "execution_count": 15,
      "outputs": [
        {
          "output_type": "stream",
          "name": "stdout",
          "text": [
            "Dataset URL: https://www.kaggle.com/datasets/dansbecker/food-101\n",
            "License(s): other\n",
            "^C\n",
            "unzip:  cannot find or open food-101.zip, food-101.zip.zip or food-101.zip.ZIP.\n"
          ]
        }
      ]
    },
    {
      "cell_type": "code",
      "source": [
        "!mkdir -p ~/.kaggle\n",
        "!cp /content/drive/MyDrive/Kaggle_API/kaggle.json ~/.kaggle/kaggle.json\n",
        "!chmod 600 ~/.kaggle/kaggle.json\n"
      ],
      "metadata": {
        "id": "pSMjiY6miEUZ"
      },
      "execution_count": 16,
      "outputs": []
    },
    {
      "cell_type": "code",
      "source": [
        "!kaggle datasets download -d dansbecker/food-101\n"
      ],
      "metadata": {
        "colab": {
          "base_uri": "https://localhost:8080/"
        },
        "id": "Igy7ajJ0iGFu",
        "outputId": "8fb1c488-8537-4681-ab1a-ae825b187c3c"
      },
      "execution_count": 17,
      "outputs": [
        {
          "output_type": "stream",
          "name": "stdout",
          "text": [
            "Dataset URL: https://www.kaggle.com/datasets/dansbecker/food-101\n",
            "License(s): other\n",
            "^C\n"
          ]
        }
      ]
    }
  ]
}